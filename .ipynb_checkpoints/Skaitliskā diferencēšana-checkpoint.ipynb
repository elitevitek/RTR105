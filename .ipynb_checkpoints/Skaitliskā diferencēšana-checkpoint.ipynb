{
 "cells": [
  {
   "cell_type": "markdown",
   "metadata": {},
   "source": [
    "# Skaitliskā diferencēšana"
   ]
  },
  {
   "cell_type": "markdown",
   "metadata": {},
   "source": [
    "Dotajai funkcijai f(x) = sin(x) iegūst funkcijas atvasinājumu f*'*(x):  "
   ]
  },
  {
   "cell_type": "code",
   "execution_count": 2,
   "metadata": {},
   "outputs": [
    {
     "data": {
      "image/png": "https://imgur.com/a/s0MtL5Q\n",
      "text/plain": [
       "<matplotlib.figure.Figure at 0x7fdbf9ff5da0>"
      ]
     },
     "metadata": {},
     "output_type": "display_data"
    }
   ],
   "source": [
    "import sys\n",
    "sys.path.append('/usr/local/anaconda3/lib/python3.6/site-packages')\n",
    "\n",
    "from numpy import sin, linspace\n",
    "\n",
    "def f(x):\n",
    "    return sin(x)\n",
    "\n",
    "x = linspace(0, 7, 71)\n",
    "y = f(x)\n",
    "\n",
    "from matplotlib import pyplot as plt\n",
    "plt.grid()\n",
    "plt.xlabel('x')\n",
    "plt.ylabel('f(x)')\n",
    "plt.title('Funkcija $sin(x)$')\n",
    "plt.plot(x, y, color = \"#FF0000\")\n",
    "#plt.legend(['$sin(x)$'])\n",
    "#plt.show()\n",
    "\n",
    "delta_x = x[1] - x[0]\n",
    "\n",
    "y_first_derivative = (f(x+delta_x) - f(x) ) / delta_x\n",
    "plt.plot(x, y_first_derivative, color = \"#00FF00\")\n",
    "\n",
    "#plt.legend(['$sin(x)$','$sin\\'(x)$'])\n",
    "#plt.show()\n",
    "\n",
    "N = len(x)\n",
    "\n",
    "y_first_derivative_build_from_array = []\n",
    "for i in range(N-1):\n",
    "    temp = ( y[i+1] - y[i] ) / (delta_x)\n",
    "    #temp = ( y[i+1] - y[i] ) / (x[i+1] - x[i] )\n",
    "    y_first_derivative_build_from_array.append(temp)\n",
    "    #print(i,x[i],x[i+1],y[i],y[i+1],temp,y_first_derivative_build_from_array)\n",
    "\n",
    "plt.plot(x[0:N-1], y_first_derivative_build_from_array, color = \"#0000FF\")\n",
    "plt.legend(['$sin(x)$','$sin\\'(x)$','$sin\\'(x)$ - build from array'])\n",
    "plt.show()"
   ]
  },
  {
   "cell_type": "markdown",
   "metadata": {},
   "source": [
    "Dotajai funkcijai f(x) = cos(x/2) iegūst funkcijas atvasinājumu f*'*(x):  "
   ]
  },
  {
   "cell_type": "code",
   "execution_count": 33,
   "metadata": {},
   "outputs": [
    {
     "name": "stderr",
     "output_type": "stream",
     "text": [
      
     ]
    },
    {
     "data": {
      "image/png": "[encoded data removed]",
      "text/plain": [
       "<matplotlib.figure.Figure at 0x7fdbf9d96400>"
      ]
     },
     "metadata": {},
     "output_type": "display_data"
    }
   ],
   "source": [
    "import sys\n",
    "sys.path.append('/usr/local/anaconda3/lib/python3.6/site-packages')\n",
    "\n",
    "from numpy import cos, linspace\n",
    "\n",
    "def f(x):\n",
    "    return cos(x/2)\n",
    "\n",
    "x = linspace(0, 7, 71)\n",
    "y = f(x)\n",
    "\n",
    "from matplotlib import pyplot as plt\n",
    "plt.grid()\n",
    "plt.xlabel('x')\n",
    "plt.ylabel('f(x)')\n",
    "plt.title('Funkcija $cos(x/2)$')\n",
    "plt.plot(x, y, color = \"#FF0000\")\n",
    "#plt.legend(['$cos(x/2)$'])\n",
    "#plt.show()\n",
    "\n",
    "delta_x = x[1] - x[0]\n",
    "\n",
    "y_first_derivative = (f(x+delta_x) - f(x) ) / delta_x\n",
    "plt.plot(x, y_first_derivative, color = \"#00FF00\")\n",
    "\n",
    "#plt.legend(['$cos(x/2)$','$cos\\'(x/2)$'])\n",
    "#plt.show()\n",
    "\n",
    "N = len(x)\n",
    "\n",
    "y_first_derivative_build_from_array = []\n",
    "for i in range(N-1):\n",
    "    temp = ( y[i+1] - y[i] ) / (delta_x)\n",
    "    #temp = ( y[i+1] - y[i] ) / (x[i+1] - x[i] )\n",
    "    y_first_derivative_build_from_array.append(temp)\n",
    "    #print(i,x[i],x[i+1],y[i],y[i+1],temp,y_first_derivative_build_from_array)\n",
    "\n",
    "plt.plot(x[0:N-1], y_first_derivative_build_from_array, color = \"#0000FF\")\n",
    "plt.legend(['$cos(x/2)$','$cos\\'(x/2)$','$cos\\'(x/2)$ - build from array'])\n",
    "plt.show()"
   ]
  },
  {
   "cell_type": "code",
   "execution_count": null,
   "metadata": {},
   "outputs": [],
   "source": []
  }
 ],
 "metadata": {
  "kernelspec": {
   "display_name": "Python 3",
   "language": "python",
   "name": "python3"
  },
  "language_info": {
   "codemirror_mode": {
    "name": "ipython",
    "version": 3
   },
   "file_extension": ".py",
   "mimetype": "text/x-python",
   "name": "python",
   "nbconvert_exporter": "python",
   "pygments_lexer": "ipython3",
   "version": "3.6.7"
  }
 },
 "nbformat": 4,
 "nbformat_minor": 2
}
